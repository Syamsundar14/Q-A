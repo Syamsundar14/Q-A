{
 "cells": [
  {
   "cell_type": "markdown",
   "id": "142a1447",
   "metadata": {},
   "source": [
    "1.What is python, what are the benefits of using python ?\n",
    "\n",
    "\n",
    "ANSWER:\n",
    "Python is created by guido van rossum and its first released in 1991.\n",
    "Python is a high-level language,intrepreted programming language.\n",
    "Python is a simplicity and readability.\n",
    "Python is widely used in various domains, including web development, data science, scientific computing, automation, artificial intelligence, and more.\n",
    "\n",
    "\n",
    "\n",
    "Benefits of using Python:\n",
    "1.It is easy to learn and read.\n",
    "2.It is versatile and open source.\n",
    "3.It has large standard library.\n",
    "4.Automation.\n",
    "5.Data science and Machine learning.\n",
    "6.Scalability."
   ]
  },
  {
   "cell_type": "markdown",
   "id": "26877b37",
   "metadata": {},
   "source": [
    "2.Datatype in Python ?\n",
    "\n",
    "ANSWER:\n",
    "Data types in python are Integers(int),Floating-point numbers(Float),Strings(str),Lists,Tuples,dictionaries(dict),sets,Booleans."
   ]
  },
  {
   "cell_type": "markdown",
   "id": "37cd9e80",
   "metadata": {},
   "source": [
    "3.Difference's Between (List / Tuple / Dict ) & there Properties ?\n",
    "\n",
    "ANSWER:\n",
    "List:\n",
    "its is a Mutable.\n",
    "its syntax is '[]'.\n",
    "Lists are ordered.\n",
    "its contains duplicates.\n",
    "ex:My_list=[1,2.5,5,'syam',7.9].\n",
    "\n",
    "\n",
    "Tuple:\n",
    "it is immutable.\n",
    "its syntax is '()'.\n",
    "Tuples are ordered.\n",
    "its contains duplicates.\n",
    "ex:MY_tuple=(1,2,3,4).\n",
    "\n",
    "Dictionary:\n",
    "\n",
    "its is Key-value pairs.\n",
    "it is mutable.\n",
    "its syntax is '{}'\n",
    "Dict are Unordered.\n",
    "ex:my_dict={\"name\":\"syam\",\"age\":21}.\n",
    "\n",
    "properties:\n",
    "its is Heterogeneous.\n",
    "slicing\n",
    "length(len())\n",
    "iteration\n",
    "membership Testing\n",
    "concatenation\n",
    "Nesting\n",
    "repetition\n",
    "append(),remove(),pop()"
   ]
  },
  {
   "cell_type": "markdown",
   "id": "f290792d",
   "metadata": {},
   "source": [
    "4.In Python what is slicing ?\n",
    "\n",
    "ANSWER:\n",
    "slicing is a technique used to extract a portion of a sequence, such as a string, list, or tuple.\n",
    "it allows you to create a new sequence that consists of elements from the original sequence within a specified range.\n",
    "Slicing is achieved by using a colon : within square brackets [].\n",
    "Syntax: sequence[start:stop:step]\n",
    "\n",
    "\n",
    "1.Slicing a string:\n",
    "a=\"Hello, syam\"\n",
    "print(a[7:])  # extracts \"syam\"\n",
    "\n",
    "2.slicing a list:\n",
    "my_list = [1, 2, 3, 4, 5]\n",
    "slice = my_list[1:4]  # Extracts [2, 3, 4]\n",
    "\n",
    "3.slicing with step:\n",
    "numbers = [0, 1, 2, 3, 4, 5, 6, 7, 8, 9]\n",
    "slice = numbers[2:9:2]  # Extracts [2, 4, 6, 8]\n",
    "\n",
    "4.Omitting stat and stop:\n",
    "text = \"Hello, Python\"\n",
    "copy = text[:]  # Copies the entire string\n",
    "\n",
    "5.reversing a sequence:\n",
    "reversed_text = text[::-1]  # Reverses the string\n"
   ]
  },
  {
   "cell_type": "markdown",
   "id": "a3eb4b38",
   "metadata": {},
   "source": [
    "5.What is Doc String in Python ?\n",
    "\n",
    "ANSWER:\n",
    "docstring  \"documentation string,\" is a special type of string that is used to provide documentation or comments for functions, modules, classes, or methods. \n",
    "Docstrings serve as a form of inline documentation that can be accessed and displayed by tools and help functions to provide information about the purpose, usage, and parameters of the code.\n",
    "\n"
   ]
  },
  {
   "cell_type": "markdown",
   "id": "49e34e5c",
   "metadata": {},
   "source": [
    "6.How can you copy Object in Python  With example ?\n",
    "\n",
    "ANSWER:\n",
    "To copy an object in Python, we use the copy module. There are two types of copies: shallow copy and deep copy. \n",
    "\n",
    "A shallow copy creates a new object which stores the reference of the original elements. So, a shallow copy doesn't create a copy of nested objects, instead it just copies the reference of nested objects. This means, a copy process does not recurse or create copies of nested objects itself. Here is an example of creating a shallow copy of a list:\n",
    "Ex:\n",
    "import copy\n",
    "\n",
    "old_list = [[1, 2, 3], [4, 5, 6], [7, 8, 'a']]\n",
    "new_list = copy.copy(old_list)\n",
    "\n",
    "new_list[2][2] = 9\n",
    "\n",
    "print('Old List:', old_list)\n",
    "print('New List:', new_list)\n",
    "\n",
    "\n",
    "The output will be:\n",
    "\n",
    "Old List: [[1, 2, 3], [4, 5, 6], [7, 8, 9]]\n",
    "New List: [[1, 2, 3], [4, 5, 6], [7, 8, 9]]\n",
    "\n",
    "\n",
    "As you can see from the output both variables 'old_list' and 'new_list' share the same id. So if you want to modify any values in 'new_list' or 'old_list', the change is visible in both.\n",
    "\n",
    "A deep copy creates a new compound object before inserting copies of the items found in the original into it in a recursive manner. It means first constructing a new collection object and then recursively populating it with copies of the child objects found in the original. Here is an example of creating a deep copy of a list:\n",
    "Ex:\n",
    "import copy\n",
    "\n",
    "old_list = [[1, 2, 3], [4, 5, 6], [7, 8, 'a']]\n",
    "new_list = copy.deepcopy(old_list)\n",
    "\n",
    "new_list[2][2] = 9\n",
    "\n",
    "print('Old List:', old_list)\n",
    "print('New List:', new_list)\n",
    "\n",
    "\n",
    "The output will be:\n",
    "\n",
    "Old List: [[1, 2, 3], [4, 5, 6], [7, 8, 9]]\n",
    "New List: [[1, 2, 3], [4, 5, 6], [7, 8, 9]]"
   ]
  },
  {
   "cell_type": "markdown",
   "id": "e8662e5e",
   "metadata": {},
   "source": [
    "7.What is negative indexing in python With Example ?\n",
    "\n",
    "ANSWER:\n",
    "Negative indexing allows you to access elements in a sequence (such as a string, list, or tuple) from the end of the sequence by using negative numbers as indices. \n",
    "Negative indices count backward from the last element, with -1 representing the last element, -2 representing the second-to-last element, and so on.\n",
    "EX:\n",
    "\n",
    "My_list=[5,10,15,20,25,30,35,40,45,50]\n",
    "print(My_list[-1:-5])\n",
    "\n",
    "output:\n",
    "[30,35,40,45,50]\n"
   ]
  },
  {
   "cell_type": "markdown",
   "id": "97f87ef0",
   "metadata": {},
   "source": [
    "8.How can you convert a number to String ? Example ?\n",
    "\n",
    "ANSWER:\n",
    "You can convert a number to a string in Python using the str() function.\n",
    "This function converts various data types, including numbers, into string representations. \n",
    "\n",
    "EX:\n",
    "num=42\n",
    "floating=9.3\n",
    "neg_num=-8\n",
    "num_as_str=str(num)\n",
    "floating_as_str=str(floating)\n",
    "neg_num_as_str=str(neg_num)\n",
    "print(num_as_str)\n",
    "print(floating_as_str)\n",
    "print(neg_num_as_str)\n",
    "\n",
    "\n",
    "output:\n",
    "\n",
    "'42'\n",
    "'9.3'\n",
    "'-8'"
   ]
  },
  {
   "cell_type": "markdown",
   "id": "482141c6",
   "metadata": {},
   "source": [
    "9.Is python case sensitive?\n",
    "\n",
    "ANSWER:\n",
    "Yes,Python is case-sensitive. This means that Python distinguishes between uppercase and lowercase letters in variable names, function names, keywords, and identifiers.\n"
   ]
  },
  {
   "cell_type": "markdown",
   "id": "51b12243",
   "metadata": {},
   "source": [
    "10.What are functions in Python? Example Syntax ?\n",
    "\n",
    "ANSWER:\n",
    "Function is a named, reusable block of code that performs a specific task or a set of tasks.\n",
    "\n",
    "Syntax:\n",
    "\n",
    "def fun_name(parameters):\n",
    "    ''''''\n",
    "    OPERATIONS\n",
    "    ''''''\n",
    "    return result\n",
    "    \n",
    "    \n",
    "    \n",
    "EX:\n",
    "def greet(name):\n",
    "    return \"Hello, \" + name + \"!\"\n",
    "\n",
    "message=greet(\"Syam\")\n",
    "print(messaage)\n",
    "\n",
    "\n",
    "output:\n",
    "Hello, Syam !"
   ]
  },
  {
   "cell_type": "code",
   "execution_count": 1,
   "id": "4c588f8c",
   "metadata": {},
   "outputs": [
    {
     "name": "stdout",
     "output_type": "stream",
     "text": [
      "{'blue', 'green', 'yellow', 'red'}\n"
     ]
    }
   ],
   "source": [
    "#11. Write a program to find distinct colours from below array [\"red\",\"blue\",\"green\",\"blue\",\"yellow\",\"red\"] \n",
    "\n",
    "colors=[\"red\",\"blue\",\"green\",\"blue\",\"yellow\",\"red\"]\n",
    "distinct_colors=set(colors)\n",
    "print(distinct_colors)"
   ]
  },
  {
   "cell_type": "code",
   "execution_count": 2,
   "id": "23972296",
   "metadata": {},
   "outputs": [
    {
     "name": "stdout",
     "output_type": "stream",
     "text": [
      "The largest number in the array is: 92\n"
     ]
    }
   ],
   "source": [
    "#12. Write a program to find the largest number from below array [12, 51, 23, 78, 92, 65]\n",
    "\n",
    "arr=[12, 51, 23, 78, 92, 65]\n",
    "large_num=max(arr)\n",
    "print(\"The largest number in the array is:\",large_num)"
   ]
  },
  {
   "cell_type": "code",
   "execution_count": 4,
   "id": "f11b17bd",
   "metadata": {},
   "outputs": [
    {
     "name": "stdout",
     "output_type": "stream",
     "text": [
      "The largest number in the array is: 92\n"
     ]
    }
   ],
   "source": [
    "#12. Write a program to find the largest number from below array [12, 51, 23, 78, 92, 65]\n",
    "\n",
    "\n",
    "array1=[12, 51, 23, 78, 92, 65]\n",
    "a=0\n",
    "for i in array1:\n",
    "    if a<i:\n",
    "        a=i\n",
    "print(\"The largest number in the array is:\",a)"
   ]
  },
  {
   "cell_type": "code",
   "execution_count": 5,
   "id": "c4a989ee",
   "metadata": {},
   "outputs": [
    {
     "name": "stdout",
     "output_type": "stream",
     "text": [
      "Total no of vowels are in the given string is:  15\n"
     ]
    }
   ],
   "source": [
    "#13. Write a program to find total no of vowels from below string \n",
    "string=\"You learn more from failure than from success.\"\n",
    "vowels=\"aeiouAEIOU\"\n",
    "c=0\n",
    "for i in string:\n",
    "    if i in vowels:\n",
    "        c+=1\n",
    "print(\"Total no of vowels are in the given string is: \",c)"
   ]
  },
  {
   "cell_type": "code",
   "execution_count": 11,
   "id": "45382da3",
   "metadata": {},
   "outputs": [
    {
     "name": "stdout",
     "output_type": "stream",
     "text": [
      "The common characters between the two strings are: {'H', 'S', 'A'}\n"
     ]
    }
   ],
   "source": [
    "#14. Write a program to find common characters from below strings. \"SMASH\", \"FLASH\" \n",
    "\n",
    "str1=\"SMASH\"\n",
    "str2=\"FLASH\"\n",
    "set1=set(string1)\n",
    "set2=set(string2)\n",
    "print(\"The common characters between the two strings are:\",set1.intersection(set2))\n"
   ]
  },
  {
   "cell_type": "code",
   "execution_count": 13,
   "id": "a9d1eb8e",
   "metadata": {},
   "outputs": [
    {
     "name": "stdout",
     "output_type": "stream",
     "text": [
      "sys\n",
      "The Given string is a Palindrome\n"
     ]
    }
   ],
   "source": [
    "#15. Write a program to check whether given string is palindrome or not.\n",
    "\n",
    "a=input()\n",
    "z=a[::-1]\n",
    "if a==z:\n",
    "    print(\"The Given string is a Palindrome\")\n",
    "else:\n",
    "    print(\"The Given string is not a Palindrome\")"
   ]
  },
  {
   "cell_type": "code",
   "execution_count": 14,
   "id": "437d6791",
   "metadata": {},
   "outputs": [
    {
     "name": "stdout",
     "output_type": "stream",
     "text": [
      "The total number of duplicate elements in the given array is:  2\n"
     ]
    }
   ],
   "source": [
    "#16. Write a program to count total number of duplicate elements from below array \n",
    "#Ex: [22, 15, 63, 45, 15, 81, 22, 12] \n",
    "\n",
    "arr=[22, 15, 63, 45, 15, 81, 22, 12]\n",
    "duplicates=len(arr)-len(set(arr))\n",
    "print(\"The total number of duplicate elements in the given array is: \",duplicates)\n"
   ]
  },
  {
   "cell_type": "code",
   "execution_count": 15,
   "id": "9c741e68",
   "metadata": {},
   "outputs": [
    {
     "name": "stdout",
     "output_type": "stream",
     "text": [
      "The total number of elements that are exactly divisible by 10 from the given array is:  3\n"
     ]
    }
   ],
   "source": [
    "#17. Write a program to find total number of elements that are exactly divisible by 10 from below array \n",
    "#Ex: [22, 50, 80, 20, 46, 5]\n",
    "\n",
    "\n",
    "arr=[22,50,80,20,46,5]\n",
    "c=0\n",
    "for i in arr:\n",
    "    if i%10==0:\n",
    "        c+=1\n",
    "print(\"The total number of elements that are exactly divisible by 10 from the given array is: \",c)"
   ]
  },
  {
   "cell_type": "code",
   "execution_count": 16,
   "id": "9713d5a2",
   "metadata": {},
   "outputs": [
    {
     "name": "stdout",
     "output_type": "stream",
     "text": [
      "[6, 7, 8, 9, 10, 11]\n"
     ]
    }
   ],
   "source": [
    "#Suppose we have a list of integers >>> numbers = [1, 2, 3, 4, 5, 6] \n",
    "#18.What do we need to do add 5 to each number?\n",
    "\n",
    "arr=[1,2,3,4,5,6]\n",
    "z=[]\n",
    "for i in arr:\n",
    "    z.append(i+5)\n",
    "print(z)"
   ]
  },
  {
   "cell_type": "code",
   "execution_count": 17,
   "id": "3ad968e0",
   "metadata": {},
   "outputs": [
    {
     "name": "stdout",
     "output_type": "stream",
     "text": [
      "[1, 7, 8, 9, 10, 11]\n"
     ]
    }
   ],
   "source": [
    "#Suppose we have a list of integers >>> numbers = [1, 2, 3, 4, 5, 6] \n",
    "#19.What if we want to add 5 to only the second to the fifth number? \n",
    "\n",
    "arr=[1,2,3,4,5,6]\n",
    "z=arr[1:]\n",
    "e=[]\n",
    "e.append(arr[0])\n",
    "for i in z:\n",
    "    e.append(i+5)\n",
    "print(e)"
   ]
  },
  {
   "cell_type": "code",
   "execution_count": 18,
   "id": "b4cae185",
   "metadata": {},
   "outputs": [
    {
     "name": "stdout",
     "output_type": "stream",
     "text": [
      "[1, 7, 3, 9, 5, 11]\n"
     ]
    }
   ],
   "source": [
    "#20.What if we want to add 5 to numbers with an even-numbered offsets?\n",
    "\n",
    "arr=[1,2,3,4,5,6]\n",
    "z=[]\n",
    "for i in arr:\n",
    "    if i%2==0:\n",
    "        z.append(i+5)\n",
    "    else:\n",
    "        z.append(i)\n",
    "print(z)"
   ]
  },
  {
   "cell_type": "code",
   "execution_count": 21,
   "id": "a08dd905",
   "metadata": {},
   "outputs": [
    {
     "name": "stdout",
     "output_type": "stream",
     "text": [
      "Python\n",
      "is\n",
      "a\n",
      "great\n",
      "text\n",
      "processing\n",
      "language\n"
     ]
    }
   ],
   "source": [
    "#21.How do we take the sentence “Python is a great text processing language” and print one word on each line?\n",
    "string= \"Python is a great text processing language\"\n",
    "words=string.split()\n",
    "for i in words:\n",
    "    print(i)"
   ]
  },
  {
   "cell_type": "code",
   "execution_count": null,
   "id": "905dde9a",
   "metadata": {},
   "outputs": [],
   "source": []
  },
  {
   "cell_type": "code",
   "execution_count": null,
   "id": "06e26052",
   "metadata": {},
   "outputs": [],
   "source": []
  },
  {
   "cell_type": "code",
   "execution_count": null,
   "id": "f9217676",
   "metadata": {},
   "outputs": [],
   "source": []
  },
  {
   "cell_type": "code",
   "execution_count": null,
   "id": "d091c7f9",
   "metadata": {},
   "outputs": [],
   "source": []
  },
  {
   "cell_type": "code",
   "execution_count": null,
   "id": "71341ec4",
   "metadata": {},
   "outputs": [],
   "source": []
  },
  {
   "cell_type": "code",
   "execution_count": null,
   "id": "0dd7073b",
   "metadata": {},
   "outputs": [],
   "source": []
  },
  {
   "cell_type": "code",
   "execution_count": null,
   "id": "bf2642da",
   "metadata": {},
   "outputs": [],
   "source": []
  },
  {
   "cell_type": "code",
   "execution_count": null,
   "id": "f9620748",
   "metadata": {},
   "outputs": [],
   "source": []
  },
  {
   "cell_type": "code",
   "execution_count": null,
   "id": "a32e8d6f",
   "metadata": {},
   "outputs": [],
   "source": []
  },
  {
   "cell_type": "code",
   "execution_count": null,
   "id": "aac8fdfc",
   "metadata": {},
   "outputs": [],
   "source": []
  },
  {
   "cell_type": "code",
   "execution_count": null,
   "id": "fd8d6253",
   "metadata": {},
   "outputs": [],
   "source": []
  },
  {
   "cell_type": "code",
   "execution_count": null,
   "id": "c6328de0",
   "metadata": {},
   "outputs": [],
   "source": []
  },
  {
   "cell_type": "code",
   "execution_count": null,
   "id": "ab99f55d",
   "metadata": {},
   "outputs": [],
   "source": []
  },
  {
   "cell_type": "code",
   "execution_count": null,
   "id": "89f1b1ec",
   "metadata": {},
   "outputs": [],
   "source": []
  }
 ],
 "metadata": {
  "kernelspec": {
   "display_name": "Python 3 (ipykernel)",
   "language": "python",
   "name": "python3"
  },
  "language_info": {
   "codemirror_mode": {
    "name": "ipython",
    "version": 3
   },
   "file_extension": ".py",
   "mimetype": "text/x-python",
   "name": "python",
   "nbconvert_exporter": "python",
   "pygments_lexer": "ipython3",
   "version": "3.11.4"
  }
 },
 "nbformat": 4,
 "nbformat_minor": 5
}
