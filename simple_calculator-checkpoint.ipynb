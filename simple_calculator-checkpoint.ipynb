{
 "cells": [
  {
   "cell_type": "code",
   "execution_count": 1,
   "id": "4ac5e3b2",
   "metadata": {},
   "outputs": [
    {
     "name": "stdout",
     "output_type": "stream",
     "text": [
      "Select number for choice of Operation : \n",
      "1 for Addition\n",
      "2 for Subraction\n",
      "3 for multiplication\n",
      "4 for Division\n",
      "Enter choice 1 or 2 or 3 or 4: 1\n",
      "Enter first number: 78\n",
      "Enter second number: 56\n",
      "78 + 56 = 134\n",
      "If you want to continue calculation? (y/n) :3\n",
      "Enter choice 1 or 2 or 3 or 4: 2\n",
      "Enter first number: 7873\n",
      "Enter second number: 78453\n",
      "7873 - 78453 = -70580\n",
      "If you want to continue calculation? (y/n) :y\n",
      "Enter choice 1 or 2 or 3 or 4: 4\n",
      "Enter first number: 676\n",
      "Enter second number: 2\n",
      "676 / 2 = 338.0\n",
      "If you want to continue calculation? (y/n) :y\n",
      "Enter choice 1 or 2 or 3 or 4: 3\n",
      "Enter first number: 234\n",
      "Enter second number: 3\n",
      "234 * 3 = 702\n",
      "If you want to continue calculation? (y/n) :n\n",
      "Calcualtion will stop\n"
     ]
    }
   ],
   "source": [
    "def add(a,b):\n",
    "    return a+b\n",
    "def sub(a,b):\n",
    "    return a-b\n",
    "def mul(a,b):\n",
    "    return a*b\n",
    "def div(a,b):\n",
    "    return a/b\n",
    "\n",
    "print('Select number for choice of Operation : ')\n",
    "print('1 for Addition')\n",
    "print('2 for Subraction')\n",
    "print('3 for multiplication')\n",
    "print('4 for Division')\n",
    "\n",
    "\n",
    "while True:\n",
    "    i=input('Enter choice 1 or 2 or 3 or 4: ')\n",
    "    s=('1','2','3','4')\n",
    "    if i in s:\n",
    "        a=int(input('Enter first number: '))\n",
    "        b=int(input('Enter second number: '))\n",
    "        \n",
    "        if i=='1':\n",
    "            print(a,'+',b,'=', add(a,b))\n",
    "        if i=='2':\n",
    "            print(a,'-',b,'=', sub(a,b))\n",
    "        if i=='3':\n",
    "            print(a,'*',b,'=', mul(a,b))\n",
    "        if i=='4':\n",
    "            print(a,'/',b,'=', div(a,b))\n",
    "    else:\n",
    "        print('Invalid Operation')\n",
    "    next_cal = input('If you want to continue calculation? (y/n) :')\n",
    "    if next_cal == 'n':\n",
    "        print('Calcualtion will stop')\n",
    "        break"
   ]
  },
  {
   "cell_type": "code",
   "execution_count": null,
   "id": "a0d66e48",
   "metadata": {},
   "outputs": [],
   "source": []
  }
 ],
 "metadata": {
  "kernelspec": {
   "display_name": "Python 3 (ipykernel)",
   "language": "python",
   "name": "python3"
  },
  "language_info": {
   "codemirror_mode": {
    "name": "ipython",
    "version": 3
   },
   "file_extension": ".py",
   "mimetype": "text/x-python",
   "name": "python",
   "nbconvert_exporter": "python",
   "pygments_lexer": "ipython3",
   "version": "3.11.4"
  }
 },
 "nbformat": 4,
 "nbformat_minor": 5
}
